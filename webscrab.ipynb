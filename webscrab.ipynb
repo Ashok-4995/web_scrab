{
 "cells": [
  {
   "cell_type": "code",
   "execution_count": 1,
   "id": "7a5002a5",
   "metadata": {
    "scrolled": true
   },
   "outputs": [
    {
     "name": "stdout",
     "output_type": "stream",
     "text": [
      "Requirement already satisfied: instaloader in c:\\users\\ashok\\anaconda3\\new folder\\lib\\site-packages (4.10)\n",
      "Requirement already satisfied: requests>=2.4 in c:\\users\\ashok\\anaconda3\\new folder\\lib\\site-packages (from instaloader) (2.29.0)\n",
      "Requirement already satisfied: charset-normalizer<4,>=2 in c:\\users\\ashok\\anaconda3\\new folder\\lib\\site-packages (from requests>=2.4->instaloader) (2.0.4)\n",
      "Requirement already satisfied: idna<4,>=2.5 in c:\\users\\ashok\\anaconda3\\new folder\\lib\\site-packages (from requests>=2.4->instaloader) (3.4)\n",
      "Requirement already satisfied: urllib3<1.27,>=1.21.1 in c:\\users\\ashok\\anaconda3\\new folder\\lib\\site-packages (from requests>=2.4->instaloader) (1.26.16)\n",
      "Requirement already satisfied: certifi>=2017.4.17 in c:\\users\\ashok\\anaconda3\\new folder\\lib\\site-packages (from requests>=2.4->instaloader) (2023.5.7)\n"
     ]
    }
   ],
   "source": [
    "# Import the module\n",
    "!pip install instaloader\n",
    "import instaloader\n",
    "\n",
    "\n"
   ]
  },
  {
   "cell_type": "code",
   "execution_count": null,
   "id": "db36b526",
   "metadata": {},
   "outputs": [],
   "source": [
    "# Create an instance of Instaloader class\n",
    "bot = instaloader.Instaloader()"
   ]
  },
  {
   "cell_type": "code",
   "execution_count": null,
   "id": "6313dba4",
   "metadata": {},
   "outputs": [],
   "source": [
    "\n",
    "# Load a profile from an Instagram handle\n",
    "profile = instaloader.Profile.from_username(bot.context, 'ashokanbarasan')\n",
    "\n",
    "print(type(profile))\n",
    "print(\"Username: \", profile.username)\n",
    "print(\"User ID: \", profile.userid)\n",
    "print(\"Number of Posts: \", profile.mediacount)\n",
    "print(\"Followers: \", profile.followers)\n",
    "print(\"Followees: \", profile.followees)\n",
    "print(\"Bio: \", profile.biography,profile.external_url)\n",
    "# Login with username and password in the script\n",
    "bot.login(user=\"your username\",passwd=\"your password\")"
   ]
  },
  {
   "cell_type": "code",
   "execution_count": null,
   "id": "4df4251a",
   "metadata": {},
   "outputs": [],
   "source": [
    "\n",
    "# Load a profile from an Instagram handle\n",
    "profile = instaloader.Profile.from_username(bot.context, 'ashokanbarasan')\n",
    "\n",
    "print(type(profile))\n",
    "print(\"Username: \", profile.username)\n",
    "print(\"User ID: \", profile.userid)\n",
    "print(\"Number of Posts: \", profile.mediacount)\n",
    "print(\"Followers: \", profile.followers)\n",
    "print(\"Followees: \", profile.followees)\n",
    "print(\"Bio: \", profile.biography,profile.external_url)\n",
    "# Login with username and password in the script\n",
    "bot.login(user=\"your username\",passwd=\"your password\")"
   ]
  },
  {
   "cell_type": "code",
   "execution_count": null,
   "id": "e86317ce",
   "metadata": {},
   "outputs": [],
   "source": [
    "# Interactive login on terminal\n",
    "bot.interactive_login(\"your username\") # Asks for password in the terminal\n",
    "# Retrieve the usernames of all followers\n",
    "followers = [follower.username for follower in profile.get_followers()]"
   ]
  },
  {
   "cell_type": "code",
   "execution_count": null,
   "id": "8940ed69",
   "metadata": {},
   "outputs": [],
   "source": [
    "# Retrieve the usernames of all followees\n",
    "followees = [followee.username for followee in profile.get_followees()]\n",
    "print(followers)\n",
    "# Load a new profile\n",
    "profile = instaloader.Profile.from_username(bot.context, 'wwe')"
   ]
  },
  {
   "cell_type": "code",
   "execution_count": null,
   "id": "f085f093",
   "metadata": {},
   "outputs": [],
   "source": [
    "# Get all posts in a generator object\n",
    "posts = profile.get_posts()\n",
    "\n",
    "# Iterate and download\n",
    "for index, post in enumerate(posts, 1):\n",
    "    bot.download_post(post, target=f\"{profile.username}_{index}\")"
   ]
  }
 ],
 "metadata": {
  "kernelspec": {
   "display_name": "Python 3 (ipykernel)",
   "language": "python",
   "name": "python3"
  },
  "language_info": {
   "codemirror_mode": {
    "name": "ipython",
    "version": 3
   },
   "file_extension": ".py",
   "mimetype": "text/x-python",
   "name": "python",
   "nbconvert_exporter": "python",
   "pygments_lexer": "ipython3",
   "version": "3.11.3"
  }
 },
 "nbformat": 4,
 "nbformat_minor": 5
}
